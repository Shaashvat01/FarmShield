{
  "nbformat": 4,
  "nbformat_minor": 0,
  "metadata": {
    "colab": {
      "provenance": []
    },
    "kernelspec": {
      "name": "python3",
      "display_name": "Python 3"
    },
    "language_info": {
      "name": "python"
    }
  },
  "cells": [
    {
      "cell_type": "code",
      "execution_count": null,
      "metadata": {
        "colab": {
          "base_uri": "https://localhost:8080/"
        },
        "id": "WFL530HruVf8",
        "outputId": "e1a6ee78-57e2-4955-cf7b-f9a39d647338"
      },
      "outputs": [
        {
          "output_type": "stream",
          "name": "stdout",
          "text": [
            "   spring_precip  winter_precip  spring_area  winter_area  \\\n",
            "0    1309.762701    1335.563307            1            1   \n",
            "1    1343.037873    1254.001595            1            1   \n",
            "2    1320.552675    1347.038804            1            1   \n",
            "3    1308.976637    1392.437709            1            1   \n",
            "4    1284.730960    1249.750629            0            1   \n",
            "\n",
            "   surface_soil_moisture  root_zone_soil_moisture  sunlight_intensity  \\\n",
            "0               0.240126                 0.231038          269.863354   \n",
            "1               0.292929                 0.237303          331.195200   \n",
            "2               0.209961                 0.252497          472.139466   \n",
            "3               0.294530                 0.275060          225.283047   \n",
            "4               0.286949                 0.233351          442.899750   \n",
            "\n",
            "   discount_score  discount_rate  \n",
            "0        0.905054            0.3  \n",
            "1        0.863209            0.3  \n",
            "2        0.892061            0.3  \n",
            "3        0.805812            0.3  \n",
            "4        0.769981            0.3  \n",
            "Synthetic dataset with 100 data points has been generated and saved as synthetic_discount_score_dataset.xlsx.\n"
          ]
        }
      ],
      "source": [
        "import pandas as pd\n",
        "import numpy as np\n",
        "\n",
        "# Set seed for reproducibility\n",
        "np.random.seed(0)\n",
        "\n",
        "# Define the number of samples\n",
        "num_samples = 100\n",
        "\n",
        "# Hypothetical weightages\n",
        "weights = {'spring_precip': 0.15, 'winter_precip': 0.15, 'spring_area': 0.1, 'winter_area': 0.1,\n",
        "           'surface_soil_moisture': 0.2, 'root_zone_soil_moisture': 0.2, 'sunlight_intensity': 0.1}\n",
        "\n",
        "# Ideal values\n",
        "ideal_conditions = {'spring_precip': 1328.38, 'winter_precip': 1312.48,\n",
        "                    'soil_moisture': 0.25, 'sunlight_intensity': 400}\n",
        "\n",
        "# Generate synthetic data\n",
        "df = pd.DataFrame({\n",
        "    'spring_precip': np.random.uniform(1200, 1400, num_samples),\n",
        "    'winter_precip': np.random.uniform(1200, 1400, num_samples),\n",
        "    'spring_area': np.random.choice([0, 1], num_samples, p=[0.05, 0.95]),\n",
        "    'winter_area': np.random.choice([0, 1], num_samples, p=[0.05, 0.95]),\n",
        "    'surface_soil_moisture': np.random.uniform(0.2, 0.3, num_samples),\n",
        "    'root_zone_soil_moisture': np.random.uniform(0.2, 0.3, num_samples),\n",
        "    'sunlight_intensity': np.random.uniform(200, 600, num_samples)\n",
        "})\n",
        "\n",
        "# Calculate the hypothetical discount score\n",
        "df['discount_score'] = (\n",
        "    weights['spring_precip'] * (1 - abs(ideal_conditions['spring_precip'] - df['spring_precip']) / ideal_conditions['spring_precip']) +\n",
        "    weights['winter_precip'] * (1 - abs(ideal_conditions['winter_precip'] - df['winter_precip']) / ideal_conditions['winter_precip']) +\n",
        "    weights['spring_area'] * df['spring_area'] +\n",
        "    weights['winter_area'] * df['winter_area'] +\n",
        "    weights['surface_soil_moisture'] * (1 - abs(ideal_conditions['soil_moisture'] - df['surface_soil_moisture']) / 0.1) +\n",
        "    weights['root_zone_soil_moisture'] * (1 - abs(ideal_conditions['soil_moisture'] - df['root_zone_soil_moisture']) / 0.1) +\n",
        "    weights['sunlight_intensity'] * (1 - abs(ideal_conditions['sunlight_intensity'] - df['sunlight_intensity']) / 400)\n",
        ")\n",
        "\n",
        "# Normalize the discount score and calculate the discount rate\n",
        "df['discount_rate'] = df['discount_score'].apply(lambda x: min(x, 0.3))\n",
        "\n",
        "# Print the first few rows to verify\n",
        "print(df.head())\n",
        "\n",
        "# Save to an Excel file\n",
        "output_file_path = 'synthetic_discount_score_dataset.xlsx'\n",
        "df.to_excel(output_file_path, index=False)\n",
        "\n",
        "print(f\"Synthetic dataset with {num_samples} data points has been generated and saved as {output_file_path}.\")\n"
      ]
    }
  ]
}